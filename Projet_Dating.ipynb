{
  "nbformat": 4,
  "nbformat_minor": 0,
  "metadata": {
    "colab": {
      "name": "Projet_Dating github",
      "provenance": [],
      "collapsed_sections": []
    },
    "kernelspec": {
      "name": "python3",
      "display_name": "Python 3"
    }
  },
  "cells": [
    {
      "cell_type": "markdown",
      "metadata": {
        "id": "0zcQ64AnwYK4",
        "colab_type": "text"
      },
      "source": [
        "# The Secret to Getting the Second Date\n",
        "\n",
        "### *Do you believe in love at first sight, or should I walk by again? - Anonymous* \n",
        "\n",
        "An analysis on the Speed Dating dataset from Kaggle: https://www.kaggle.com/annavictoria/speed-dating-experiment\n",
        "\n",
        " \n",
        "\n",
        "\n",
        "\n",
        "## Introduction\n",
        "\n",
        "What makes people attractive? What gets people a second date? Why isn't garlic breath a variable in this dataset?\n",
        "We have tried to explain this through the following dataset \n",
        "with visualization and machine learning algorithms.\n",
        "\n",
        "### About the data:\n",
        "* Data was gathered from 552 participants in experimental speed dating events from 2002-2004. \n",
        "* During the events, the attendees would have a four minute \"first date\" with every other participant of the opposite sex. \n",
        "* At the end of their four minutes, participants were asked if they would like to see their date again. They were also asked to rate their date on six attributes: \n",
        "  * Attractiveness\n",
        "  * Sincerity\n",
        "  * Intelligence\n",
        "  * Fun\n",
        "  * Ambition\n",
        "  * Shared Interests.\n",
        "* The dataset also includes questionnaire data gathered from participants at different points in the process. These fields include: \n",
        "  * demographics\n",
        "  * dating habits\n",
        "  * self-perception across key attributes\n",
        "  * beliefs on what others find valuable in a mate\n",
        "  * lifestyle information\n",
        "\n",
        "See the speed-dating-data-key.doc for data dictionary and question key.\n",
        "\n",
        "\n",
        "## Table of Contents\n",
        "\n",
        "I. [simple-data-visualization-with-plotly.ipynb](#cln)\n",
        "  * [Overview of the dataset](#hm)\n",
        "  * [Simple check to see if the number of men and women are equivalent](#io)\n",
        "  * [Almost the same number of men and women, ok\n",
        "Lets start understanding what people look for in a partner; men vs women](#dg)\n",
        "  * [Unrequited Love](#url)\n",
        "  * [OLS Model](#ols)\n",
        "\n",
        "II. [Data Cleaning and EDA](#cln)\n",
        "  * [Heatmap](#hm)\n",
        "  * [Interest Overlap](#io)\n",
        "  * [Decisions by Gender](#dg)\n",
        "  * [Unrequited Love](#url)\n",
        "  * [OLS Model](#ols)\n",
        "\n",
        "\n",
        "II. [Modeling](#mdl)\n",
        "  * [Logistic Regression](#log)\n",
        "  * [Random Forest](#rf)\n",
        "  * [XGBoost](#xgb)\n",
        "\n",
        "\n",
        "III. [Conclusion](#ccn)"
      ]
    },
    {
      "cell_type": "code",
      "metadata": {
        "id": "6Ami_QGFxJ-e",
        "colab_type": "code",
        "outputId": "3991ff78-2133-465c-9aff-af3e28333a81",
        "colab": {
          "base_uri": "https://localhost:8080/",
          "height": 17
        }
      },
      "source": [
        "# importing packages\n",
        "%matplotlib inline\n",
        "import pandas as pd\n",
        "pd.options.display.max_rows = 1000 #handy for showing truncated results\n",
        "import matplotlib.pyplot as plt\n",
        "import numpy as np\n",
        "import seaborn as sns\n",
        "import statsmodels.api as sm\n",
        "from sklearn.model_selection import train_test_split\n",
        "from sklearn.linear_model import LogisticRegression\n",
        "from sklearn.ensemble import RandomForestClassifier\n",
        "from sklearn.ensemble import GradientBoostingClassifier\n",
        "from sklearn import metrics\n",
        "import plotly.offline as py\n",
        "py.init_notebook_mode(connected=True)\n",
        "import plotly.graph_objs as go\n",
        "import plotly.tools as tls\n",
        "import warnings"
      ],
      "execution_count": 1,
      "outputs": [
        {
          "output_type": "display_data",
          "data": {
            "text/html": [
              "        <script type=\"text/javascript\">\n",
              "        window.PlotlyConfig = {MathJaxConfig: 'local'};\n",
              "        if (window.MathJax) {MathJax.Hub.Config({SVG: {font: \"STIX-Web\"}});}\n",
              "        if (typeof require !== 'undefined') {\n",
              "        require.undef(\"plotly\");\n",
              "        requirejs.config({\n",
              "            paths: {\n",
              "                'plotly': ['https://cdn.plot.ly/plotly-latest.min']\n",
              "            }\n",
              "        });\n",
              "        require(['plotly'], function(Plotly) {\n",
              "            window._Plotly = Plotly;\n",
              "        });\n",
              "        }\n",
              "        </script>\n",
              "        "
            ]
          },
          "metadata": {
            "tags": []
          }
        }
      ]
    },
    {
      "cell_type": "code",
      "metadata": {
        "id": "-UVkJSV6xNRU",
        "colab_type": "code",
        "colab": {}
      },
      "source": [
        "# importing data\n",
        "dating = pd.read_csv('/content/Speed Dating Data.csv', encoding=\"ISO-8859-1\") "
      ],
      "execution_count": 0,
      "outputs": []
    },
    {
      "cell_type": "markdown",
      "metadata": {
        "id": "hozx1-cj2m_L",
        "colab_type": "text"
      },
      "source": [
        "<a id=\"cln\"> I.Simple-data-visualization-with-plotly.ipynb</a>\n",
        "\n",
        "\n",
        "\n"
      ]
    },
    {
      "cell_type": "markdown",
      "metadata": {
        "id": "veQ_E5YJ3ZBV",
        "colab_type": "text"
      },
      "source": [
        "####Overview of the dataset"
      ]
    },
    {
      "cell_type": "code",
      "metadata": {
        "id": "VTFVe0GZxNN3",
        "colab_type": "code",
        "outputId": "ab7078e9-1164-49c1-f822-65fa3d02d3d7",
        "colab": {
          "base_uri": "https://localhost:8080/",
          "height": 253
        }
      },
      "source": [
        "dating.head(5)"
      ],
      "execution_count": 3,
      "outputs": [
        {
          "output_type": "execute_result",
          "data": {
            "text/html": [
              "<div>\n",
              "<style scoped>\n",
              "    .dataframe tbody tr th:only-of-type {\n",
              "        vertical-align: middle;\n",
              "    }\n",
              "\n",
              "    .dataframe tbody tr th {\n",
              "        vertical-align: top;\n",
              "    }\n",
              "\n",
              "    .dataframe thead th {\n",
              "        text-align: right;\n",
              "    }\n",
              "</style>\n",
              "<table border=\"1\" class=\"dataframe\">\n",
              "  <thead>\n",
              "    <tr style=\"text-align: right;\">\n",
              "      <th></th>\n",
              "      <th>iid</th>\n",
              "      <th>id</th>\n",
              "      <th>gender</th>\n",
              "      <th>idg</th>\n",
              "      <th>condtn</th>\n",
              "      <th>wave</th>\n",
              "      <th>round</th>\n",
              "      <th>position</th>\n",
              "      <th>positin1</th>\n",
              "      <th>order</th>\n",
              "      <th>partner</th>\n",
              "      <th>pid</th>\n",
              "      <th>match</th>\n",
              "      <th>int_corr</th>\n",
              "      <th>samerace</th>\n",
              "      <th>age_o</th>\n",
              "      <th>race_o</th>\n",
              "      <th>pf_o_att</th>\n",
              "      <th>pf_o_sin</th>\n",
              "      <th>pf_o_int</th>\n",
              "      <th>pf_o_fun</th>\n",
              "      <th>pf_o_amb</th>\n",
              "      <th>pf_o_sha</th>\n",
              "      <th>dec_o</th>\n",
              "      <th>attr_o</th>\n",
              "      <th>sinc_o</th>\n",
              "      <th>intel_o</th>\n",
              "      <th>fun_o</th>\n",
              "      <th>amb_o</th>\n",
              "      <th>shar_o</th>\n",
              "      <th>like_o</th>\n",
              "      <th>prob_o</th>\n",
              "      <th>met_o</th>\n",
              "      <th>age</th>\n",
              "      <th>field</th>\n",
              "      <th>field_cd</th>\n",
              "      <th>undergra</th>\n",
              "      <th>mn_sat</th>\n",
              "      <th>tuition</th>\n",
              "      <th>race</th>\n",
              "      <th>...</th>\n",
              "      <th>amb5_2</th>\n",
              "      <th>you_call</th>\n",
              "      <th>them_cal</th>\n",
              "      <th>date_3</th>\n",
              "      <th>numdat_3</th>\n",
              "      <th>num_in_3</th>\n",
              "      <th>attr1_3</th>\n",
              "      <th>sinc1_3</th>\n",
              "      <th>intel1_3</th>\n",
              "      <th>fun1_3</th>\n",
              "      <th>amb1_3</th>\n",
              "      <th>shar1_3</th>\n",
              "      <th>attr7_3</th>\n",
              "      <th>sinc7_3</th>\n",
              "      <th>intel7_3</th>\n",
              "      <th>fun7_3</th>\n",
              "      <th>amb7_3</th>\n",
              "      <th>shar7_3</th>\n",
              "      <th>attr4_3</th>\n",
              "      <th>sinc4_3</th>\n",
              "      <th>intel4_3</th>\n",
              "      <th>fun4_3</th>\n",
              "      <th>amb4_3</th>\n",
              "      <th>shar4_3</th>\n",
              "      <th>attr2_3</th>\n",
              "      <th>sinc2_3</th>\n",
              "      <th>intel2_3</th>\n",
              "      <th>fun2_3</th>\n",
              "      <th>amb2_3</th>\n",
              "      <th>shar2_3</th>\n",
              "      <th>attr3_3</th>\n",
              "      <th>sinc3_3</th>\n",
              "      <th>intel3_3</th>\n",
              "      <th>fun3_3</th>\n",
              "      <th>amb3_3</th>\n",
              "      <th>attr5_3</th>\n",
              "      <th>sinc5_3</th>\n",
              "      <th>intel5_3</th>\n",
              "      <th>fun5_3</th>\n",
              "      <th>amb5_3</th>\n",
              "    </tr>\n",
              "  </thead>\n",
              "  <tbody>\n",
              "    <tr>\n",
              "      <th>0</th>\n",
              "      <td>1</td>\n",
              "      <td>1.0</td>\n",
              "      <td>0</td>\n",
              "      <td>1</td>\n",
              "      <td>1</td>\n",
              "      <td>1</td>\n",
              "      <td>10</td>\n",
              "      <td>7</td>\n",
              "      <td>NaN</td>\n",
              "      <td>4</td>\n",
              "      <td>1</td>\n",
              "      <td>11.0</td>\n",
              "      <td>0</td>\n",
              "      <td>0.14</td>\n",
              "      <td>0</td>\n",
              "      <td>27.0</td>\n",
              "      <td>2.0</td>\n",
              "      <td>35.0</td>\n",
              "      <td>20.0</td>\n",
              "      <td>20.0</td>\n",
              "      <td>20.0</td>\n",
              "      <td>0.0</td>\n",
              "      <td>5.0</td>\n",
              "      <td>0</td>\n",
              "      <td>6.0</td>\n",
              "      <td>8.0</td>\n",
              "      <td>8.0</td>\n",
              "      <td>8.0</td>\n",
              "      <td>8.0</td>\n",
              "      <td>6.0</td>\n",
              "      <td>7.0</td>\n",
              "      <td>4.0</td>\n",
              "      <td>2.0</td>\n",
              "      <td>21.0</td>\n",
              "      <td>Law</td>\n",
              "      <td>1.0</td>\n",
              "      <td>NaN</td>\n",
              "      <td>NaN</td>\n",
              "      <td>NaN</td>\n",
              "      <td>4.0</td>\n",
              "      <td>...</td>\n",
              "      <td>NaN</td>\n",
              "      <td>1.0</td>\n",
              "      <td>1.0</td>\n",
              "      <td>0.0</td>\n",
              "      <td>NaN</td>\n",
              "      <td>NaN</td>\n",
              "      <td>15.0</td>\n",
              "      <td>20.0</td>\n",
              "      <td>20.0</td>\n",
              "      <td>15.0</td>\n",
              "      <td>15.0</td>\n",
              "      <td>15.0</td>\n",
              "      <td>NaN</td>\n",
              "      <td>NaN</td>\n",
              "      <td>NaN</td>\n",
              "      <td>NaN</td>\n",
              "      <td>NaN</td>\n",
              "      <td>NaN</td>\n",
              "      <td>NaN</td>\n",
              "      <td>NaN</td>\n",
              "      <td>NaN</td>\n",
              "      <td>NaN</td>\n",
              "      <td>NaN</td>\n",
              "      <td>NaN</td>\n",
              "      <td>NaN</td>\n",
              "      <td>NaN</td>\n",
              "      <td>NaN</td>\n",
              "      <td>NaN</td>\n",
              "      <td>NaN</td>\n",
              "      <td>NaN</td>\n",
              "      <td>5.0</td>\n",
              "      <td>7.0</td>\n",
              "      <td>7.0</td>\n",
              "      <td>7.0</td>\n",
              "      <td>7.0</td>\n",
              "      <td>NaN</td>\n",
              "      <td>NaN</td>\n",
              "      <td>NaN</td>\n",
              "      <td>NaN</td>\n",
              "      <td>NaN</td>\n",
              "    </tr>\n",
              "    <tr>\n",
              "      <th>1</th>\n",
              "      <td>1</td>\n",
              "      <td>1.0</td>\n",
              "      <td>0</td>\n",
              "      <td>1</td>\n",
              "      <td>1</td>\n",
              "      <td>1</td>\n",
              "      <td>10</td>\n",
              "      <td>7</td>\n",
              "      <td>NaN</td>\n",
              "      <td>3</td>\n",
              "      <td>2</td>\n",
              "      <td>12.0</td>\n",
              "      <td>0</td>\n",
              "      <td>0.54</td>\n",
              "      <td>0</td>\n",
              "      <td>22.0</td>\n",
              "      <td>2.0</td>\n",
              "      <td>60.0</td>\n",
              "      <td>0.0</td>\n",
              "      <td>0.0</td>\n",
              "      <td>40.0</td>\n",
              "      <td>0.0</td>\n",
              "      <td>0.0</td>\n",
              "      <td>0</td>\n",
              "      <td>7.0</td>\n",
              "      <td>8.0</td>\n",
              "      <td>10.0</td>\n",
              "      <td>7.0</td>\n",
              "      <td>7.0</td>\n",
              "      <td>5.0</td>\n",
              "      <td>8.0</td>\n",
              "      <td>4.0</td>\n",
              "      <td>2.0</td>\n",
              "      <td>21.0</td>\n",
              "      <td>Law</td>\n",
              "      <td>1.0</td>\n",
              "      <td>NaN</td>\n",
              "      <td>NaN</td>\n",
              "      <td>NaN</td>\n",
              "      <td>4.0</td>\n",
              "      <td>...</td>\n",
              "      <td>NaN</td>\n",
              "      <td>1.0</td>\n",
              "      <td>1.0</td>\n",
              "      <td>0.0</td>\n",
              "      <td>NaN</td>\n",
              "      <td>NaN</td>\n",
              "      <td>15.0</td>\n",
              "      <td>20.0</td>\n",
              "      <td>20.0</td>\n",
              "      <td>15.0</td>\n",
              "      <td>15.0</td>\n",
              "      <td>15.0</td>\n",
              "      <td>NaN</td>\n",
              "      <td>NaN</td>\n",
              "      <td>NaN</td>\n",
              "      <td>NaN</td>\n",
              "      <td>NaN</td>\n",
              "      <td>NaN</td>\n",
              "      <td>NaN</td>\n",
              "      <td>NaN</td>\n",
              "      <td>NaN</td>\n",
              "      <td>NaN</td>\n",
              "      <td>NaN</td>\n",
              "      <td>NaN</td>\n",
              "      <td>NaN</td>\n",
              "      <td>NaN</td>\n",
              "      <td>NaN</td>\n",
              "      <td>NaN</td>\n",
              "      <td>NaN</td>\n",
              "      <td>NaN</td>\n",
              "      <td>5.0</td>\n",
              "      <td>7.0</td>\n",
              "      <td>7.0</td>\n",
              "      <td>7.0</td>\n",
              "      <td>7.0</td>\n",
              "      <td>NaN</td>\n",
              "      <td>NaN</td>\n",
              "      <td>NaN</td>\n",
              "      <td>NaN</td>\n",
              "      <td>NaN</td>\n",
              "    </tr>\n",
              "    <tr>\n",
              "      <th>2</th>\n",
              "      <td>1</td>\n",
              "      <td>1.0</td>\n",
              "      <td>0</td>\n",
              "      <td>1</td>\n",
              "      <td>1</td>\n",
              "      <td>1</td>\n",
              "      <td>10</td>\n",
              "      <td>7</td>\n",
              "      <td>NaN</td>\n",
              "      <td>10</td>\n",
              "      <td>3</td>\n",
              "      <td>13.0</td>\n",
              "      <td>1</td>\n",
              "      <td>0.16</td>\n",
              "      <td>1</td>\n",
              "      <td>22.0</td>\n",
              "      <td>4.0</td>\n",
              "      <td>19.0</td>\n",
              "      <td>18.0</td>\n",
              "      <td>19.0</td>\n",
              "      <td>18.0</td>\n",
              "      <td>14.0</td>\n",
              "      <td>12.0</td>\n",
              "      <td>1</td>\n",
              "      <td>10.0</td>\n",
              "      <td>10.0</td>\n",
              "      <td>10.0</td>\n",
              "      <td>10.0</td>\n",
              "      <td>10.0</td>\n",
              "      <td>10.0</td>\n",
              "      <td>10.0</td>\n",
              "      <td>10.0</td>\n",
              "      <td>1.0</td>\n",
              "      <td>21.0</td>\n",
              "      <td>Law</td>\n",
              "      <td>1.0</td>\n",
              "      <td>NaN</td>\n",
              "      <td>NaN</td>\n",
              "      <td>NaN</td>\n",
              "      <td>4.0</td>\n",
              "      <td>...</td>\n",
              "      <td>NaN</td>\n",
              "      <td>1.0</td>\n",
              "      <td>1.0</td>\n",
              "      <td>0.0</td>\n",
              "      <td>NaN</td>\n",
              "      <td>NaN</td>\n",
              "      <td>15.0</td>\n",
              "      <td>20.0</td>\n",
              "      <td>20.0</td>\n",
              "      <td>15.0</td>\n",
              "      <td>15.0</td>\n",
              "      <td>15.0</td>\n",
              "      <td>NaN</td>\n",
              "      <td>NaN</td>\n",
              "      <td>NaN</td>\n",
              "      <td>NaN</td>\n",
              "      <td>NaN</td>\n",
              "      <td>NaN</td>\n",
              "      <td>NaN</td>\n",
              "      <td>NaN</td>\n",
              "      <td>NaN</td>\n",
              "      <td>NaN</td>\n",
              "      <td>NaN</td>\n",
              "      <td>NaN</td>\n",
              "      <td>NaN</td>\n",
              "      <td>NaN</td>\n",
              "      <td>NaN</td>\n",
              "      <td>NaN</td>\n",
              "      <td>NaN</td>\n",
              "      <td>NaN</td>\n",
              "      <td>5.0</td>\n",
              "      <td>7.0</td>\n",
              "      <td>7.0</td>\n",
              "      <td>7.0</td>\n",
              "      <td>7.0</td>\n",
              "      <td>NaN</td>\n",
              "      <td>NaN</td>\n",
              "      <td>NaN</td>\n",
              "      <td>NaN</td>\n",
              "      <td>NaN</td>\n",
              "    </tr>\n",
              "    <tr>\n",
              "      <th>3</th>\n",
              "      <td>1</td>\n",
              "      <td>1.0</td>\n",
              "      <td>0</td>\n",
              "      <td>1</td>\n",
              "      <td>1</td>\n",
              "      <td>1</td>\n",
              "      <td>10</td>\n",
              "      <td>7</td>\n",
              "      <td>NaN</td>\n",
              "      <td>5</td>\n",
              "      <td>4</td>\n",
              "      <td>14.0</td>\n",
              "      <td>1</td>\n",
              "      <td>0.61</td>\n",
              "      <td>0</td>\n",
              "      <td>23.0</td>\n",
              "      <td>2.0</td>\n",
              "      <td>30.0</td>\n",
              "      <td>5.0</td>\n",
              "      <td>15.0</td>\n",
              "      <td>40.0</td>\n",
              "      <td>5.0</td>\n",
              "      <td>5.0</td>\n",
              "      <td>1</td>\n",
              "      <td>7.0</td>\n",
              "      <td>8.0</td>\n",
              "      <td>9.0</td>\n",
              "      <td>8.0</td>\n",
              "      <td>9.0</td>\n",
              "      <td>8.0</td>\n",
              "      <td>7.0</td>\n",
              "      <td>7.0</td>\n",
              "      <td>2.0</td>\n",
              "      <td>21.0</td>\n",
              "      <td>Law</td>\n",
              "      <td>1.0</td>\n",
              "      <td>NaN</td>\n",
              "      <td>NaN</td>\n",
              "      <td>NaN</td>\n",
              "      <td>4.0</td>\n",
              "      <td>...</td>\n",
              "      <td>NaN</td>\n",
              "      <td>1.0</td>\n",
              "      <td>1.0</td>\n",
              "      <td>0.0</td>\n",
              "      <td>NaN</td>\n",
              "      <td>NaN</td>\n",
              "      <td>15.0</td>\n",
              "      <td>20.0</td>\n",
              "      <td>20.0</td>\n",
              "      <td>15.0</td>\n",
              "      <td>15.0</td>\n",
              "      <td>15.0</td>\n",
              "      <td>NaN</td>\n",
              "      <td>NaN</td>\n",
              "      <td>NaN</td>\n",
              "      <td>NaN</td>\n",
              "      <td>NaN</td>\n",
              "      <td>NaN</td>\n",
              "      <td>NaN</td>\n",
              "      <td>NaN</td>\n",
              "      <td>NaN</td>\n",
              "      <td>NaN</td>\n",
              "      <td>NaN</td>\n",
              "      <td>NaN</td>\n",
              "      <td>NaN</td>\n",
              "      <td>NaN</td>\n",
              "      <td>NaN</td>\n",
              "      <td>NaN</td>\n",
              "      <td>NaN</td>\n",
              "      <td>NaN</td>\n",
              "      <td>5.0</td>\n",
              "      <td>7.0</td>\n",
              "      <td>7.0</td>\n",
              "      <td>7.0</td>\n",
              "      <td>7.0</td>\n",
              "      <td>NaN</td>\n",
              "      <td>NaN</td>\n",
              "      <td>NaN</td>\n",
              "      <td>NaN</td>\n",
              "      <td>NaN</td>\n",
              "    </tr>\n",
              "    <tr>\n",
              "      <th>4</th>\n",
              "      <td>1</td>\n",
              "      <td>1.0</td>\n",
              "      <td>0</td>\n",
              "      <td>1</td>\n",
              "      <td>1</td>\n",
              "      <td>1</td>\n",
              "      <td>10</td>\n",
              "      <td>7</td>\n",
              "      <td>NaN</td>\n",
              "      <td>7</td>\n",
              "      <td>5</td>\n",
              "      <td>15.0</td>\n",
              "      <td>1</td>\n",
              "      <td>0.21</td>\n",
              "      <td>0</td>\n",
              "      <td>24.0</td>\n",
              "      <td>3.0</td>\n",
              "      <td>30.0</td>\n",
              "      <td>10.0</td>\n",
              "      <td>20.0</td>\n",
              "      <td>10.0</td>\n",
              "      <td>10.0</td>\n",
              "      <td>20.0</td>\n",
              "      <td>1</td>\n",
              "      <td>8.0</td>\n",
              "      <td>7.0</td>\n",
              "      <td>9.0</td>\n",
              "      <td>6.0</td>\n",
              "      <td>9.0</td>\n",
              "      <td>7.0</td>\n",
              "      <td>8.0</td>\n",
              "      <td>6.0</td>\n",
              "      <td>2.0</td>\n",
              "      <td>21.0</td>\n",
              "      <td>Law</td>\n",
              "      <td>1.0</td>\n",
              "      <td>NaN</td>\n",
              "      <td>NaN</td>\n",
              "      <td>NaN</td>\n",
              "      <td>4.0</td>\n",
              "      <td>...</td>\n",
              "      <td>NaN</td>\n",
              "      <td>1.0</td>\n",
              "      <td>1.0</td>\n",
              "      <td>0.0</td>\n",
              "      <td>NaN</td>\n",
              "      <td>NaN</td>\n",
              "      <td>15.0</td>\n",
              "      <td>20.0</td>\n",
              "      <td>20.0</td>\n",
              "      <td>15.0</td>\n",
              "      <td>15.0</td>\n",
              "      <td>15.0</td>\n",
              "      <td>NaN</td>\n",
              "      <td>NaN</td>\n",
              "      <td>NaN</td>\n",
              "      <td>NaN</td>\n",
              "      <td>NaN</td>\n",
              "      <td>NaN</td>\n",
              "      <td>NaN</td>\n",
              "      <td>NaN</td>\n",
              "      <td>NaN</td>\n",
              "      <td>NaN</td>\n",
              "      <td>NaN</td>\n",
              "      <td>NaN</td>\n",
              "      <td>NaN</td>\n",
              "      <td>NaN</td>\n",
              "      <td>NaN</td>\n",
              "      <td>NaN</td>\n",
              "      <td>NaN</td>\n",
              "      <td>NaN</td>\n",
              "      <td>5.0</td>\n",
              "      <td>7.0</td>\n",
              "      <td>7.0</td>\n",
              "      <td>7.0</td>\n",
              "      <td>7.0</td>\n",
              "      <td>NaN</td>\n",
              "      <td>NaN</td>\n",
              "      <td>NaN</td>\n",
              "      <td>NaN</td>\n",
              "      <td>NaN</td>\n",
              "    </tr>\n",
              "  </tbody>\n",
              "</table>\n",
              "<p>5 rows × 195 columns</p>\n",
              "</div>"
            ],
            "text/plain": [
              "   iid   id  gender  idg  condtn  ...  attr5_3  sinc5_3  intel5_3  fun5_3  amb5_3\n",
              "0    1  1.0       0    1       1  ...      NaN      NaN       NaN     NaN     NaN\n",
              "1    1  1.0       0    1       1  ...      NaN      NaN       NaN     NaN     NaN\n",
              "2    1  1.0       0    1       1  ...      NaN      NaN       NaN     NaN     NaN\n",
              "3    1  1.0       0    1       1  ...      NaN      NaN       NaN     NaN     NaN\n",
              "4    1  1.0       0    1       1  ...      NaN      NaN       NaN     NaN     NaN\n",
              "\n",
              "[5 rows x 195 columns]"
            ]
          },
          "metadata": {
            "tags": []
          },
          "execution_count": 3
        }
      ]
    },
    {
      "cell_type": "code",
      "metadata": {
        "id": "En7ndAZG3ikv",
        "colab_type": "code",
        "outputId": "56a903ef-646f-46ba-89b6-cebb9d0badb8",
        "colab": {
          "base_uri": "https://localhost:8080/",
          "height": 34
        }
      },
      "source": [
        "dating.shape"
      ],
      "execution_count": 4,
      "outputs": [
        {
          "output_type": "execute_result",
          "data": {
            "text/plain": [
              "(8378, 195)"
            ]
          },
          "metadata": {
            "tags": []
          },
          "execution_count": 4
        }
      ]
    },
    {
      "cell_type": "markdown",
      "metadata": {
        "id": "vM1OFt793cBs",
        "colab_type": "text"
      },
      "source": [
        "####Simple check to see if the number of men and women are equivalent"
      ]
    },
    {
      "cell_type": "code",
      "metadata": {
        "id": "3To6IX26xMy9",
        "colab_type": "code",
        "outputId": "9e4f26f1-8339-4f47-8d09-906f3e6713e3",
        "colab": {
          "base_uri": "https://localhost:8080/",
          "height": 296
        }
      },
      "source": [
        "plt.figure(figsize=(8,4))\n",
        "sns.countplot(x='gender', data=dating)"
      ],
      "execution_count": 5,
      "outputs": [
        {
          "output_type": "execute_result",
          "data": {
            "text/plain": [
              "<matplotlib.axes._subplots.AxesSubplot at 0x7f650411b7b8>"
            ]
          },
          "metadata": {
            "tags": []
          },
          "execution_count": 5
        },
        {
          "output_type": "display_data",
          "data": {
            "image/png": "[encoded data removed]",
            "text/plain": [
              "<Figure size 576x288 with 1 Axes>"
            ]
          },
          "metadata": {
            "tags": []
          }
        }
      ]
    },
    {
      "cell_type": "markdown",
      "metadata": {
        "id": "ujboaA4GjOGF",
        "colab_type": "text"
      },
      "source": [
        "####Simple check to see age of participants"
      ]
    },
    {
      "cell_type": "code",
      "metadata": {
        "id": "Ev07XUnTdgGX",
        "colab_type": "code",
        "outputId": "831d9249-b78e-4fb5-fb46-4d79788e1104",
        "colab": {
          "base_uri": "https://localhost:8080/",
          "height": 405
        }
      },
      "source": [
        "plt.figure(figsize=(12,6))\n",
        "sns.countplot(x='age', data=dating)"
      ],
      "execution_count": 7,
      "outputs": [
        {
          "output_type": "execute_result",
          "data": {
            "text/plain": [
              "<matplotlib.axes._subplots.AxesSubplot at 0x7f64d49c4be0>"
            ]
          },
          "metadata": {
            "tags": []
          },
          "execution_count": 7
        },
        {
          "output_type": "display_data",
          "data": {
            "image/png": "[encoded data removed]",
            "text/plain": [
              "<Figure size 864x432 with 1 Axes>"
            ]
          },
          "metadata": {
            "tags": []
          }
        }
      ]
    },
    {
      "cell_type": "markdown",
      "metadata": {
        "id": "8s6_aKy82nmg",
        "colab_type": "text"
      },
      "source": [
        "#####So most of the participants were in their mid twenties to early thirties."
      ]
    },
    {
      "cell_type": "markdown",
      "metadata": {
        "id": "xOaV0bK6kNfs",
        "colab_type": "text"
      },
      "source": [
        "####Simple check to see different origins of participants\n",
        "\n",
        "1.   Élément de liste\n",
        "2.   Élément de liste\n",
        "\n"
      ]
    },
    {
      "cell_type": "code",
      "metadata": {
        "id": "t9XnuMw1i33Y",
        "colab_type": "code",
        "outputId": "10c71bd0-6255-47f5-f2b1-3d2d4fe07e80",
        "colab": {
          "base_uri": "https://localhost:8080/",
          "height": 411
        }
      },
      "source": [
        "plt.figure(figsize=(12,6))\n",
        "sns.countplot(x='race_o', data=dating)"
      ],
      "execution_count": 45,
      "outputs": [
        {
          "output_type": "execute_result",
          "data": {
            "text/plain": [
              "<matplotlib.axes._subplots.AxesSubplot at 0x7f64d0489cc0>"
            ]
          },
          "metadata": {
            "tags": []
          },
          "execution_count": 45
        },
        {
          "output_type": "display_data",
          "data": {
            "image/png": "[encoded data removed]",
            "text/plain": [
              "<Figure size 864x432 with 1 Axes>"
            ]
          },
          "metadata": {
            "tags": []
          }
        }
      ]
    },
    {
      "cell_type": "code",
      "metadata": {
        "id": "qaDW76sdi3z2",
        "colab_type": "code",
        "colab": {}
      },
      "source": [
        ""
      ],
      "execution_count": 0,
      "outputs": []
    },
    {
      "cell_type": "markdown",
      "metadata": {
        "id": "ZSOOSZoZ4Tnl",
        "colab_type": "text"
      },
      "source": [
        "\n",
        "####Lets start understanding what people look for in a partner; men vs women"
      ]
    },
    {
      "cell_type": "code",
      "metadata": {
        "id": "plA1RXTnxLM7",
        "colab_type": "code",
        "colab": {}
      },
      "source": [
        "atributes_gender = dating[['gender','attr1_1', 'sinc1_1','intel1_1','fun1_1','amb1_1','shar1_1']].groupby('gender').mean()\n",
        "cols = ['Attractive','Sincere','Intelligente','Fun','Ambituous','Shared Interests']\n",
        "atributes_gender.columns = cols"
      ],
      "execution_count": 0,
      "outputs": []
    },
    {
      "cell_type": "code",
      "metadata": {
        "id": "F6RfQoeQ5USS",
        "colab_type": "code",
        "outputId": "0ac468e9-a98c-4d50-c56d-fd0db7bf8407",
        "colab": {
          "base_uri": "https://localhost:8080/",
          "height": 142
        }
      },
      "source": [
        "atributes_gender"
      ],
      "execution_count": 10,
      "outputs": [
        {
          "output_type": "execute_result",
          "data": {
            "text/html": [
              "<div>\n",
              "<style scoped>\n",
              "    .dataframe tbody tr th:only-of-type {\n",
              "        vertical-align: middle;\n",
              "    }\n",
              "\n",
              "    .dataframe tbody tr th {\n",
              "        vertical-align: top;\n",
              "    }\n",
              "\n",
              "    .dataframe thead th {\n",
              "        text-align: right;\n",
              "    }\n",
              "</style>\n",
              "<table border=\"1\" class=\"dataframe\">\n",
              "  <thead>\n",
              "    <tr style=\"text-align: right;\">\n",
              "      <th></th>\n",
              "      <th>Attractive</th>\n",
              "      <th>Sincere</th>\n",
              "      <th>Intelligente</th>\n",
              "      <th>Fun</th>\n",
              "      <th>Ambituous</th>\n",
              "      <th>Shared Interests</th>\n",
              "    </tr>\n",
              "    <tr>\n",
              "      <th>gender</th>\n",
              "      <th></th>\n",
              "      <th></th>\n",
              "      <th></th>\n",
              "      <th></th>\n",
              "      <th></th>\n",
              "      <th></th>\n",
              "    </tr>\n",
              "  </thead>\n",
              "  <tbody>\n",
              "    <tr>\n",
              "      <th>0</th>\n",
              "      <td>18.055224</td>\n",
              "      <td>18.305008</td>\n",
              "      <td>21.002502</td>\n",
              "      <td>17.147292</td>\n",
              "      <td>12.827222</td>\n",
              "      <td>12.704194</td>\n",
              "    </tr>\n",
              "    <tr>\n",
              "      <th>1</th>\n",
              "      <td>26.921689</td>\n",
              "      <td>16.498436</td>\n",
              "      <td>19.537374</td>\n",
              "      <td>17.763893</td>\n",
              "      <td>8.552829</td>\n",
              "      <td>10.996574</td>\n",
              "    </tr>\n",
              "  </tbody>\n",
              "</table>\n",
              "</div>"
            ],
            "text/plain": [
              "        Attractive    Sincere  ...  Ambituous  Shared Interests\n",
              "gender                         ...                             \n",
              "0        18.055224  18.305008  ...  12.827222         12.704194\n",
              "1        26.921689  16.498436  ...   8.552829         10.996574\n",
              "\n",
              "[2 rows x 6 columns]"
            ]
          },
          "metadata": {
            "tags": []
          },
          "execution_count": 10
        }
      ]
    },
    {
      "cell_type": "code",
      "metadata": {
        "id": "LbJMkHXmVV6U",
        "colab_type": "code",
        "outputId": "ae3c7c8e-94c9-4fae-e3ae-defbb670f293",
        "colab": {
          "base_uri": "https://localhost:8080/",
          "height": 34
        }
      },
      "source": [
        "atributes_gender.iloc[1].values.astype(int)"
      ],
      "execution_count": 11,
      "outputs": [
        {
          "output_type": "execute_result",
          "data": {
            "text/plain": [
              "array([26, 16, 19, 17,  8, 10])"
            ]
          },
          "metadata": {
            "tags": []
          },
          "execution_count": 11
        }
      ]
    },
    {
      "cell_type": "code",
      "metadata": {
        "id": "Z2S9cKS5Wftw",
        "colab_type": "code",
        "colab": {}
      },
      "source": [
        "b= pd.DataFrame(data=atributes_gender.iloc[0].values)"
      ],
      "execution_count": 0,
      "outputs": []
    },
    {
      "cell_type": "code",
      "metadata": {
        "id": "eWcWTf_ZY2J_",
        "colab_type": "code",
        "colab": {}
      },
      "source": [
        "c= pd.DataFrame(data=atributes_gender.iloc[1].values)"
      ],
      "execution_count": 0,
      "outputs": []
    },
    {
      "cell_type": "markdown",
      "metadata": {
        "id": "gXglCXROcy_N",
        "colab_type": "text"
      },
      "source": [
        "####What influences love at first sight in women?\n"
      ]
    },
    {
      "cell_type": "code",
      "metadata": {
        "id": "egcQJPwyZzk4",
        "colab_type": "code",
        "outputId": "d50ff2ce-3843-4a17-bd88-929ab5bfe214",
        "colab": {
          "base_uri": "https://localhost:8080/",
          "height": 391
        }
      },
      "source": [
        "plt.figure(figsize=(12,6))\n",
        "sns.barplot(x=atributes_gender.columns, y=atributes_gender.iloc[0].values, data = b)"
      ],
      "execution_count": 15,
      "outputs": [
        {
          "output_type": "execute_result",
          "data": {
            "text/plain": [
              "<matplotlib.axes._subplots.AxesSubplot at 0x7f64d430cf28>"
            ]
          },
          "metadata": {
            "tags": []
          },
          "execution_count": 15
        },
        {
          "output_type": "display_data",
          "data": {
            "image/png": "[encoded data removed]",
            "text/plain": [
              "<Figure size 864x432 with 1 Axes>"
            ]
          },
          "metadata": {
            "tags": []
          }
        }
      ]
    },
    {
      "cell_type": "markdown",
      "metadata": {
        "id": "eTCvq8Plc1Qa",
        "colab_type": "text"
      },
      "source": [
        "####What influences love at first sight in men?"
      ]
    },
    {
      "cell_type": "code",
      "metadata": {
        "id": "ZVo9z6GlTvkF",
        "colab_type": "code",
        "outputId": "5c3f2043-8e02-4c21-aa10-5c18933c4796",
        "colab": {
          "base_uri": "https://localhost:8080/",
          "height": 391
        }
      },
      "source": [
        "plt.figure(figsize=(12,6))\n",
        "sns.barplot(atributes_gender.columns, y=atributes_gender.iloc[1].values,data = c)"
      ],
      "execution_count": 17,
      "outputs": [
        {
          "output_type": "execute_result",
          "data": {
            "text/plain": [
              "<matplotlib.axes._subplots.AxesSubplot at 0x7f64d1a2cac8>"
            ]
          },
          "metadata": {
            "tags": []
          },
          "execution_count": 17
        },
        {
          "output_type": "display_data",
          "data": {
            "image/png": "[encoded data removed]",
            "text/plain": [
              "<Figure size 864x432 with 1 Axes>"
            ]
          },
          "metadata": {
            "tags": []
          }
        }
      ]
    },
    {
      "cell_type": "code",
      "metadata": {
        "id": "cPLw9X7m_FXs",
        "colab_type": "code",
        "colab": {
          "base_uri": "https://localhost:8080/",
          "height": 293
        },
        "outputId": "39b76ab8-461d-45cf-823a-4dab8ee5ff42"
      },
      "source": [
        "labels = ['Attractive', 'Sincere', 'Intelligente', 'Fun', 'Ambituous','Shared Interests']\n",
        "\n",
        "men_means = [18.055224, 18.30500848, 21.00250182, 17.14729212, 12.82722182, 12.704194]\n",
        "women_means = [26.921689, 16.498436, 19.537374, 17.763893, 8.552829\t, 10.996574]\n",
        "\n",
        "x = np.arange(len(labels))  # the label locations\n",
        "width = 0.45  # the width of the bars\n",
        "\n",
        "\n",
        "\n",
        "fig, ax = plt.subplots()\n",
        "\n",
        "rects1 = ax.bar(x - width/2, men_means, width, label='Men')\n",
        "rects2 = ax.bar(x + width/2, women_means, width, label='Women')\n",
        "\n",
        "# Add some text for labels, title and custom x-axis tick labels, etc.\n",
        "# Text below each barplot with a rotation at 90°\n",
        "ax.set_ylabel('Scores')\n",
        "ax.set_title('Scores by atributes and gender')\n",
        "ax.set_xticks(x)\n",
        "ax.set_xticklabels(labels, rotation=90)\n",
        "ax.legend()\n",
        "\n",
        "def autolabel(rects):\n",
        "    \"\"\"Attach a text label above each bar in *rects*, displaying its height.\"\"\"\n",
        "    for rect in rects:\n",
        "        height = rect.get_height()\n",
        "        ax.annotate('{}'.format(height),\n",
        "                    xy=(rect.get_x() + rect.get_width() / 2, height),\n",
        "                    xytext=(0, 3),  # 3 points vertical offset\n",
        "                    textcoords=\"offset points\",\n",
        "                    ha='center', va='bottom')\n",
        "\n",
        "\n",
        "#autolabel(rects1)\n",
        "#autolabel(rects2)\n",
        "\n",
        "fig.tight_layout()\n",
        " \n",
        "plt.show()"
      ],
      "execution_count": 49,
      "outputs": [
        {
          "output_type": "display_data",
          "data": {
            "image/png": "[encoded data removed]",
            "text/plain": [
              "<Figure size 432x288 with 1 Axes>"
            ]
          },
          "metadata": {
            "tags": []
          }
        }
      ]
    },
    {
      "cell_type": "markdown",
      "metadata": {
        "id": "myPhqMb_2H43",
        "colab_type": "text"
      },
      "source": [
        "####Out of curiosity, I want to see how many speed daters found a match!"
      ]
    },
    {
      "cell_type": "code",
      "metadata": {
        "id": "uovxLAs72FxG",
        "colab_type": "code",
        "colab": {
          "base_uri": "https://localhost:8080/",
          "height": 142
        },
        "outputId": "c8078212-4f25-4b65-c854-6ef483e7fb2a"
      },
      "source": [
        "pd.crosstab(index=dating['match'],columns=\"count\")"
      ],
      "execution_count": 51,
      "outputs": [
        {
          "output_type": "execute_result",
          "data": {
            "text/html": [
              "<div>\n",
              "<style scoped>\n",
              "    .dataframe tbody tr th:only-of-type {\n",
              "        vertical-align: middle;\n",
              "    }\n",
              "\n",
              "    .dataframe tbody tr th {\n",
              "        vertical-align: top;\n",
              "    }\n",
              "\n",
              "    .dataframe thead th {\n",
              "        text-align: right;\n",
              "    }\n",
              "</style>\n",
              "<table border=\"1\" class=\"dataframe\">\n",
              "  <thead>\n",
              "    <tr style=\"text-align: right;\">\n",
              "      <th>col_0</th>\n",
              "      <th>count</th>\n",
              "    </tr>\n",
              "    <tr>\n",
              "      <th>match</th>\n",
              "      <th></th>\n",
              "    </tr>\n",
              "  </thead>\n",
              "  <tbody>\n",
              "    <tr>\n",
              "      <th>0</th>\n",
              "      <td>6998</td>\n",
              "    </tr>\n",
              "    <tr>\n",
              "      <th>1</th>\n",
              "      <td>1380</td>\n",
              "    </tr>\n",
              "  </tbody>\n",
              "</table>\n",
              "</div>"
            ],
            "text/plain": [
              "col_0  count\n",
              "match       \n",
              "0       6998\n",
              "1       1380"
            ]
          },
          "metadata": {
            "tags": []
          },
          "execution_count": 51
        }
      ]
    },
    {
      "cell_type": "markdown",
      "metadata": {
        "id": "amtTHaNW30vd",
        "colab_type": "text"
      },
      "source": [
        "20% of people found themselves a second date after the speed dating session!"
      ]
    },
    {
      "cell_type": "markdown",
      "metadata": {
        "id": "kqyiJ6RIS9BA",
        "colab_type": "text"
      },
      "source": [
        "II. [Data Cleaning and EDA](#cln)"
      ]
    },
    {
      "cell_type": "code",
      "metadata": {
        "id": "JNqDJdaugAwS",
        "colab_type": "code",
        "colab": {}
      },
      "source": [
        "# narrowing dataset\n",
        "dating_1 = dating.iloc[:, 11:28]\n",
        "dating_2 = dating.iloc[:, 30:35]\n",
        "dating_3 = dating.iloc[:, 39:43]\n",
        "dating_4 = dating.iloc[:, 45:67]\n",
        "dating_5 = dating.iloc[:, 69:74]\n",
        "dating_6 = dating.iloc[:, 87:91]\n",
        "dating_7 = dating.iloc[:, 97:102]\n",
        "dating_8 = dating.iloc[:, 104:107]\n",
        "\n",
        "date = pd.concat([dating.iloc[:, 0],dating.iloc[:, 2],dating_1,dating_2,dating_3,dating_4,dating_5,\n",
        "                  dating_6,dating_7,dating_8], axis=1)"
      ],
      "execution_count": 0,
      "outputs": []
    },
    {
      "cell_type": "code",
      "metadata": {
        "id": "di9vwhQSgAsR",
        "colab_type": "code",
        "outputId": "1479d8bc-d554-4838-e8b4-d496b33fb4c2",
        "colab": {
          "base_uri": "https://localhost:8080/",
          "height": 1000
        }
      },
      "source": [
        "# counting null values\n",
        "date.isnull().sum()"
      ],
      "execution_count": 21,
      "outputs": [
        {
          "output_type": "execute_result",
          "data": {
            "text/plain": [
              "iid           0\n",
              "gender        0\n",
              "pid          10\n",
              "match         0\n",
              "int_corr    158\n",
              "samerace      0\n",
              "age_o       104\n",
              "race_o       73\n",
              "pf_o_att     89\n",
              "pf_o_sin     89\n",
              "pf_o_int     89\n",
              "pf_o_fun     98\n",
              "pf_o_amb    107\n",
              "pf_o_sha    129\n",
              "dec_o         0\n",
              "attr_o      212\n",
              "sinc_o      287\n",
              "intel_o     306\n",
              "fun_o       360\n",
              "like_o      250\n",
              "prob_o      318\n",
              "met_o       385\n",
              "age          95\n",
              "field        63\n",
              "race         63\n",
              "imprace      79\n",
              "imprelig     79\n",
              "from         79\n",
              "goal         79\n",
              "date         97\n",
              "go_out       79\n",
              "career       89\n",
              "career_c    138\n",
              "sports       79\n",
              "tvsports     79\n",
              "exercise     79\n",
              "dining       79\n",
              "museums      79\n",
              "art          79\n",
              "hiking       79\n",
              "gaming       79\n",
              "clubbing     79\n",
              "reading      79\n",
              "tv           79\n",
              "theater      79\n",
              "movies       79\n",
              "concerts     79\n",
              "music        79\n",
              "shopping     79\n",
              "yoga         79\n",
              "attr1_1      79\n",
              "sinc1_1      79\n",
              "intel1_1     79\n",
              "fun1_1       89\n",
              "amb1_1       99\n",
              "attr3_1     105\n",
              "sinc3_1     105\n",
              "fun3_1      105\n",
              "intel3_1    105\n",
              "dec           0\n",
              "attr        202\n",
              "sinc        277\n",
              "intel       296\n",
              "fun         350\n",
              "like        240\n",
              "prob        309\n",
              "met         375\n",
              "dtype: int64"
            ]
          },
          "metadata": {
            "tags": []
          },
          "execution_count": 21
        }
      ]
    },
    {
      "cell_type": "code",
      "metadata": {
        "id": "wDIZHf6mgAoj",
        "colab_type": "code",
        "colab": {}
      },
      "source": [
        "# removing null rows now that the nulls are in the hundreds and not the thousands\n",
        "date2 = date.dropna()"
      ],
      "execution_count": 0,
      "outputs": []
    },
    {
      "cell_type": "code",
      "metadata": {
        "id": "T0q7bk1O3MHT",
        "colab_type": "code",
        "outputId": "93763038-194a-4b5e-adc8-5a8844be5655",
        "colab": {
          "base_uri": "https://localhost:8080/",
          "height": 1000
        }
      },
      "source": [
        "# checking datatypes\n",
        "date2.dtypes"
      ],
      "execution_count": 23,
      "outputs": [
        {
          "output_type": "execute_result",
          "data": {
            "text/plain": [
              "iid           int64\n",
              "gender        int64\n",
              "pid         float64\n",
              "match         int64\n",
              "int_corr    float64\n",
              "samerace      int64\n",
              "age_o       float64\n",
              "race_o      float64\n",
              "pf_o_att    float64\n",
              "pf_o_sin    float64\n",
              "pf_o_int    float64\n",
              "pf_o_fun    float64\n",
              "pf_o_amb    float64\n",
              "pf_o_sha    float64\n",
              "dec_o         int64\n",
              "attr_o      float64\n",
              "sinc_o      float64\n",
              "intel_o     float64\n",
              "fun_o       float64\n",
              "like_o      float64\n",
              "prob_o      float64\n",
              "met_o       float64\n",
              "age         float64\n",
              "field        object\n",
              "race        float64\n",
              "imprace     float64\n",
              "imprelig    float64\n",
              "from         object\n",
              "goal        float64\n",
              "date        float64\n",
              "go_out      float64\n",
              "career       object\n",
              "career_c    float64\n",
              "sports      float64\n",
              "tvsports    float64\n",
              "exercise    float64\n",
              "dining      float64\n",
              "museums     float64\n",
              "art         float64\n",
              "hiking      float64\n",
              "gaming      float64\n",
              "clubbing    float64\n",
              "reading     float64\n",
              "tv          float64\n",
              "theater     float64\n",
              "movies      float64\n",
              "concerts    float64\n",
              "music       float64\n",
              "shopping    float64\n",
              "yoga        float64\n",
              "attr1_1     float64\n",
              "sinc1_1     float64\n",
              "intel1_1    float64\n",
              "fun1_1      float64\n",
              "amb1_1      float64\n",
              "attr3_1     float64\n",
              "sinc3_1     float64\n",
              "fun3_1      float64\n",
              "intel3_1    float64\n",
              "dec           int64\n",
              "attr        float64\n",
              "sinc        float64\n",
              "intel       float64\n",
              "fun         float64\n",
              "like        float64\n",
              "prob        float64\n",
              "met         float64\n",
              "dtype: object"
            ]
          },
          "metadata": {
            "tags": []
          },
          "execution_count": 23
        }
      ]
    },
    {
      "cell_type": "code",
      "metadata": {
        "id": "axUtTQRV8SUc",
        "colab_type": "code",
        "colab": {}
      },
      "source": [
        "# creating an object-free dataframe for later use\n",
        "date3 = date2.drop(['field', 'from', 'career'], axis=1)"
      ],
      "execution_count": 0,
      "outputs": []
    },
    {
      "cell_type": "code",
      "metadata": {
        "id": "CGTTxd1jhB7U",
        "colab_type": "code",
        "colab": {
          "base_uri": "https://localhost:8080/",
          "height": 943
        },
        "outputId": "f15e239e-084d-43dd-c7a0-ab8d23955cfa"
      },
      "source": [
        "# heatmap\n",
        "plt.subplots(figsize=(15,15))\n",
        "ax = plt.axes()\n",
        "ax.set_title(\"Correlation Heatmap\")\n",
        "corr = date3.corr()\n",
        "sns.heatmap(corr, \n",
        "            xticklabels=corr.columns.values,\n",
        "            yticklabels=corr.columns.values)"
      ],
      "execution_count": 54,
      "outputs": [
        {
          "output_type": "execute_result",
          "data": {
            "text/plain": [
              "<matplotlib.axes._subplots.AxesSubplot at 0x7f64c314fb00>"
            ]
          },
          "metadata": {
            "tags": []
          },
          "execution_count": 54
        },
        {
          "output_type": "display_data",
          "data": {
            "image/png": "[encoded data removed]",
            "text/plain": [
              "<Figure size 1080x1080 with 2 Axes>"
            ]
          },
          "metadata": {
            "tags": []
          }
        }
      ]
    },
    {
      "cell_type": "markdown",
      "metadata": {
        "id": "_9GEWKxOhLue",
        "colab_type": "text"
      },
      "source": [
        "Men (gender = 1) seem to have a preference for attractive partners (attr1_1) while women (gender = 0) seem to have a preference for ambitious partners (amb1_1)!\n",
        "\n",
        "In other news, women like shopping and yoga and men like gaming, so at least we know this heatmap is working. "
      ]
    },
    {
      "cell_type": "markdown",
      "metadata": {
        "id": "elZYmM6Q5kgX",
        "colab_type": "text"
      },
      "source": [
        "####let's look at the influence of interests"
      ]
    },
    {
      "cell_type": "code",
      "metadata": {
        "id": "Vbsot05ChG1S",
        "colab_type": "code",
        "outputId": "037eff95-8aad-4dea-af51-f3876045e917",
        "colab": {
          "base_uri": "https://localhost:8080/",
          "height": 567
        }
      },
      "source": [
        "sns.set(style=\"ticks\", color_codes=True)\n",
        "date_int = pd.concat([date3.iloc[:, 1],date3.iloc[:, 33:36]],axis = 1)\n",
        "g = sns.pairplot(date_int, hue=\"gender\")"
      ],
      "execution_count": 26,
      "outputs": [
        {
          "output_type": "display_data",
          "data": {
            "image/png": "[encoded data removed]",
            "text/plain": [
              "<Figure size 586.6x540 with 12 Axes>"
            ]
          },
          "metadata": {
            "tags": []
          }
        }
      ]
    },
    {
      "cell_type": "code",
      "metadata": {
        "id": "Gcb2-2rhhdzW",
        "colab_type": "code",
        "outputId": "3626159a-d24c-4c97-fb5d-551bc57bc29b",
        "colab": {
          "base_uri": "https://localhost:8080/",
          "height": 387
        }
      },
      "source": [
        "# just for fun, looking at interest overlap\n",
        "sns.set(style=\"ticks\", color_codes=True)\n",
        "date_int3 = pd.concat([date3.iloc[:, 1],date3.iloc[:, 45:47]],axis = 1)\n",
        "g = sns.pairplot(date_int3, hue=\"gender\")"
      ],
      "execution_count": 29,
      "outputs": [
        {
          "output_type": "display_data",
          "data": {
            "image/png": "[encoded data removed]",
            "text/plain": [
              "<Figure size 406.6x360 with 6 Axes>"
            ]
          },
          "metadata": {
            "tags": []
          }
        }
      ]
    },
    {
      "cell_type": "markdown",
      "metadata": {
        "id": "C_L30SeAhlgE",
        "colab_type": "text"
      },
      "source": [
        "I wanted to see how interests differed by gender. The histograms above show that **if you want to suggest a date that both genders are likely to enjoy, choose movies or dining!**\n",
        "\n",
        "However, referring back to the heatmap none of the interests really correlated with match, so that gives me the go-ahead to remove interests from my match prediction model!\n",
        "\n",
        "It also looks like match (the variable we are interested in) is mostly correlated to the decisions of the partners, and the partner's attributes (how well they rated the partner's attractiveness, sincerity, intelligence, fun, ambition, and how much they liked them).\n",
        "\n",
        "Interestingly, match was not correlated to age or race, or even how similar the participant and partner's interests are (int_corr)! Love does not discriminate according to the data!"
      ]
    },
    {
      "cell_type": "code",
      "metadata": {
        "id": "XQMtUwyQhGqX",
        "colab_type": "code",
        "colab": {}
      },
      "source": [
        "# removing interests\n",
        "date4 = date3.drop(['sports', 'tvsports', 'exercise', 'dining', 'museums', 'art', 'hiking', \n",
        "                    'gaming', 'clubbing', 'reading', 'tv', 'theater', 'movies', 'concerts', 'music', \n",
        "                   'shopping', 'yoga'], axis=1)"
      ],
      "execution_count": 0,
      "outputs": []
    },
    {
      "cell_type": "markdown",
      "metadata": {
        "id": "b0Yr29vDhsnh",
        "colab_type": "text"
      },
      "source": [
        "Women receive more positive final decisions from the other person (dec_o) than men do?"
      ]
    },
    {
      "cell_type": "code",
      "metadata": {
        "id": "Lt_gIZuLhGnL",
        "colab_type": "code",
        "outputId": "aad75cf9-6234-44de-acf4-cc022ef15b3d",
        "colab": {
          "base_uri": "https://localhost:8080/",
          "height": 221
        }
      },
      "source": [
        "# looking at dec_o by gender\n",
        "sns.set(style=\"ticks\", color_codes=True)\n",
        "g = sns.FacetGrid(date4, col=\"gender\")\n",
        "g = g.map(plt.hist, \"dec_o\")\n",
        "plt.ticklabel_format(useOffset=False, style='plain')"
      ],
      "execution_count": 31,
      "outputs": [
        {
          "output_type": "display_data",
          "data": {
            "image/png": "[encoded data removed]",
            "text/plain": [
              "<Figure size 432x216 with 2 Axes>"
            ]
          },
          "metadata": {
            "tags": []
          }
        }
      ]
    },
    {
      "cell_type": "code",
      "metadata": {
        "id": "Ru8uLs90hw3S",
        "colab_type": "code",
        "outputId": "79228d52-443e-4063-e2d8-97ebdd29f9aa",
        "colab": {
          "base_uri": "https://localhost:8080/",
          "height": 34
        }
      },
      "source": [
        "# chi-square test\n",
        "gender_crosstab = pd.crosstab(index=date4.gender, columns=date4.dec_o)\n",
        "gender_table = sm.stats.Table(gender_crosstab)\n",
        "gender_rslt = gender_table.test_nominal_association()\n",
        "gender_rslt.pvalue"
      ],
      "execution_count": 32,
      "outputs": [
        {
          "output_type": "execute_result",
          "data": {
            "text/plain": [
              "1.1102230246251565e-16"
            ]
          },
          "metadata": {
            "tags": []
          },
          "execution_count": 32
        }
      ]
    },
    {
      "cell_type": "markdown",
      "metadata": {
        "id": "Yp91PJqHh_pe",
        "colab_type": "text"
      },
      "source": [
        "It looks like women received about 1750 'no' and about 1600 'yes' for the decision question \"Would you like to see him or her again?\". Men received about 2050 'no' and about 1300 'yes'. In other words, **men are more likely to be rejected by women than women are to be rejected by men** (wahwah). This is a statistically significant difference as confirmed by the above chi-squared test p-value.\n",
        "\n",
        "Now, I wonder, how many interactions were <a id=\"url\">unrequited love</a>? That is, getting the count of rows where dec_o = 1 AND dec = 0 OR a dec = 1 AND dec_o = 0?"
      ]
    },
    {
      "cell_type": "code",
      "metadata": {
        "id": "v-ixu6ichz-f",
        "colab_type": "code",
        "outputId": "64c105e3-dcc0-4c62-9f06-a6d6334bc41e",
        "colab": {
          "base_uri": "https://localhost:8080/",
          "height": 34
        }
      },
      "source": [
        "# unrequited love count\n",
        "no_love_count = len(date4[(date4['dec_o']==0) & (date4['dec']==1)]) \n",
        "+ len(date4[(date4['dec_o']==1) & (date4['dec']==0)])\n",
        "perc_broken_heart = no_love_count / len(date4.index)\n",
        "perc_broken_heart*100"
      ],
      "execution_count": 33,
      "outputs": [
        {
          "output_type": "execute_result",
          "data": {
            "text/plain": [
              "26.040900397234072"
            ]
          },
          "metadata": {
            "tags": []
          },
          "execution_count": 33
        }
      ]
    },
    {
      "cell_type": "markdown",
      "metadata": {
        "id": "h9oPu_KXiHMv",
        "colab_type": "text"
      },
      "source": [
        "So it seems 26% of participants unfortunately had their heart broken. More than the percentage of people who got a second date! \n",
        "\n",
        "On an unrelated note, I wonder if the incidence of unrequited love differs by the attractiveness of the partner."
      ]
    },
    {
      "cell_type": "code",
      "metadata": {
        "id": "2dXAk2a6hz68",
        "colab_type": "code",
        "colab": {}
      },
      "source": [
        "# encoding unrequited love as a new column\n",
        "date4['url']=np.where(((date4['dec_o']==0) & (date4['dec']==1))|((date4['dec']==0) & (date4['dec_o']==1)),1,0)"
      ],
      "execution_count": 0,
      "outputs": []
    },
    {
      "cell_type": "code",
      "metadata": {
        "id": "M07vOrpVhwzl",
        "colab_type": "code",
        "outputId": "0713f97e-1988-4b5c-a9d0-ac6973b2939e",
        "colab": {
          "base_uri": "https://localhost:8080/",
          "height": 597
        }
      },
      "source": [
        "# looking at url by attractiveness\n",
        "plt.figure(figsize=(7,9))\n",
        "sns.boxplot(x='url', y='attr', data=date4, palette='cool')\n",
        "plt.title('Broken Hearts by Attractiveness of Partner', fontsize=20)\n",
        "plt.xlabel('Broken Heart', fontsize=16)"
      ],
      "execution_count": 35,
      "outputs": [
        {
          "output_type": "execute_result",
          "data": {
            "text/plain": [
              "Text(0.5, 0, 'Broken Heart')"
            ]
          },
          "metadata": {
            "tags": []
          },
          "execution_count": 35
        },
        {
          "output_type": "display_data",
          "data": {
            "image/png": "[encoded data removed]",
            "text/plain": [
              "<Figure size 504x648 with 1 Axes>"
            ]
          },
          "metadata": {
            "tags": []
          }
        }
      ]
    },
    {
      "cell_type": "code",
      "metadata": {
        "id": "7kS1mha0hGkN",
        "colab_type": "code",
        "outputId": "d460b50a-2953-485d-e293-a6fa5fec419f",
        "colab": {
          "base_uri": "https://localhost:8080/",
          "height": 34
        }
      },
      "source": [
        "# chi-square test\n",
        "bh_crosstab = pd.crosstab(index=date4.attr, columns=date4.url)\n",
        "bh_table = sm.stats.Table(bh_crosstab)\n",
        "bh_rslt = bh_table.test_nominal_association()\n",
        "bh_rslt.pvalue"
      ],
      "execution_count": 36,
      "outputs": [
        {
          "output_type": "execute_result",
          "data": {
            "text/plain": [
              "0.5300021303134914"
            ]
          },
          "metadata": {
            "tags": []
          },
          "execution_count": 36
        }
      ]
    },
    {
      "cell_type": "markdown",
      "metadata": {
        "id": "Mf79pt8ciWu1",
        "colab_type": "text"
      },
      "source": [
        "Looks like the difference in attractiveness was not statistically significant. So the good news is, the likelihood of getting rejected is not dependent on your attractiveness!"
      ]
    },
    {
      "cell_type": "code",
      "metadata": {
        "id": "ZbPpvKXziS3U",
        "colab_type": "code",
        "outputId": "dd1622ac-7f1b-46bc-81da-7c3f07190f02",
        "colab": {
          "base_uri": "https://localhost:8080/",
          "height": 628
        }
      },
      "source": [
        "date5 = pd.concat([date4['attr3_1'],date4['sinc3_1'],date4['intel3_1'],date4['fun3_1'],date4['attr_o'],\n",
        "                   date4['sinc_o'],date4['intel_o'],date4['fun_o'],date4['like'],date4['like_o'], \n",
        "                   date4['int_corr'],date4['url']],axis=1)\n",
        "plt.subplots(figsize=(15,10))\n",
        "ax = plt.axes()\n",
        "ax.set_title(\"Correlation Heatmap\")\n",
        "corr = date5.corr()\n",
        "sns.heatmap(corr, \n",
        "            xticklabels=corr.columns.values,\n",
        "            yticklabels=corr.columns.values)"
      ],
      "execution_count": 37,
      "outputs": [
        {
          "output_type": "execute_result",
          "data": {
            "text/plain": [
              "<matplotlib.axes._subplots.AxesSubplot at 0x7f64ce267d30>"
            ]
          },
          "metadata": {
            "tags": []
          },
          "execution_count": 37
        },
        {
          "output_type": "display_data",
          "data": {
            "image/png": "[encoded data removed]",
            "text/plain": [
              "<Figure size 1080x720 with 2 Axes>"
            ]
          },
          "metadata": {
            "tags": []
          }
        }
      ]
    },
    {
      "cell_type": "markdown",
      "metadata": {
        "id": "-y_a8VVUifqC",
        "colab_type": "text"
      },
      "source": [
        "It looks like regardless of your attractiveness, or any other trait for that matter, you are just as likely to experience heartbreak!\n",
        "\n",
        "It also looks like typically, your own opinion of how attractive you are (attr3_1) is only weakly correlated with how attractive your date finds you (attr_o)! And in fact, there is nearly no correlation between how smart or sincere you think you are versus how smart and sincere your date thinks of you! Perhaps these are tough qualities to get across in a 4 minute date!\n",
        "\n",
        "So that brings up the question, between attractiveness, sincerity, intelligence, fun, ambition, and liking, what was the most influential in the final decision (dec)? I'll run a <a id=\"ols\">linear regression model</a>."
      ]
    },
    {
      "cell_type": "code",
      "metadata": {
        "id": "Vj28hupOiYjf",
        "colab_type": "code",
        "outputId": "2815ed28-079f-452d-99ec-9b427670a4e7",
        "colab": {
          "base_uri": "https://localhost:8080/",
          "height": 528
        }
      },
      "source": [
        "# OLS model with coefficients\n",
        "X_ols = date4[['attr','sinc','intel','fun','like','int_corr']]\n",
        "y_ols = date4.dec\n",
        "traits = sm.OLS(y_ols, X_ols)\n",
        "results_traits = traits.fit()\n",
        "results_traits.summary()"
      ],
      "execution_count": 38,
      "outputs": [
        {
          "output_type": "execute_result",
          "data": {
            "text/html": [
              "<table class=\"simpletable\">\n",
              "<caption>OLS Regression Results</caption>\n",
              "<tr>\n",
              "  <th>Dep. Variable:</th>           <td>dec</td>       <th>  R-squared (uncentered):</th>      <td>   0.602</td>\n",
              "</tr>\n",
              "<tr>\n",
              "  <th>Model:</th>                   <td>OLS</td>       <th>  Adj. R-squared (uncentered):</th> <td>   0.602</td>\n",
              "</tr>\n",
              "<tr>\n",
              "  <th>Method:</th>             <td>Least Squares</td>  <th>  F-statistic:       </th>          <td>   1712.</td>\n",
              "</tr>\n",
              "<tr>\n",
              "  <th>Date:</th>             <td>Mon, 23 Mar 2020</td> <th>  Prob (F-statistic):</th>           <td>  0.00</td> \n",
              "</tr>\n",
              "<tr>\n",
              "  <th>Time:</th>                 <td>09:11:59</td>     <th>  Log-Likelihood:    </th>          <td> -3686.4</td>\n",
              "</tr>\n",
              "<tr>\n",
              "  <th>No. Observations:</th>      <td>  6797</td>      <th>  AIC:               </th>          <td>   7385.</td>\n",
              "</tr>\n",
              "<tr>\n",
              "  <th>Df Residuals:</th>          <td>  6791</td>      <th>  BIC:               </th>          <td>   7426.</td>\n",
              "</tr>\n",
              "<tr>\n",
              "  <th>Df Model:</th>              <td>     6</td>      <th>                     </th>              <td> </td>   \n",
              "</tr>\n",
              "<tr>\n",
              "  <th>Covariance Type:</th>      <td>nonrobust</td>    <th>                     </th>              <td> </td>   \n",
              "</tr>\n",
              "</table>\n",
              "<table class=\"simpletable\">\n",
              "<tr>\n",
              "      <td></td>        <th>coef</th>     <th>std err</th>      <th>t</th>      <th>P>|t|</th>  <th>[0.025</th>    <th>0.975]</th>  \n",
              "</tr>\n",
              "<tr>\n",
              "  <th>attr</th>     <td>    0.0555</td> <td>    0.004</td> <td>   15.678</td> <td> 0.000</td> <td>    0.049</td> <td>    0.062</td>\n",
              "</tr>\n",
              "<tr>\n",
              "  <th>sinc</th>     <td>   -0.0351</td> <td>    0.004</td> <td>   -8.750</td> <td> 0.000</td> <td>   -0.043</td> <td>   -0.027</td>\n",
              "</tr>\n",
              "<tr>\n",
              "  <th>intel</th>    <td>   -0.0485</td> <td>    0.004</td> <td>  -11.897</td> <td> 0.000</td> <td>   -0.057</td> <td>   -0.041</td>\n",
              "</tr>\n",
              "<tr>\n",
              "  <th>fun</th>      <td>    0.0173</td> <td>    0.004</td> <td>    4.495</td> <td> 0.000</td> <td>    0.010</td> <td>    0.025</td>\n",
              "</tr>\n",
              "<tr>\n",
              "  <th>like</th>     <td>    0.0997</td> <td>    0.004</td> <td>   22.261</td> <td> 0.000</td> <td>    0.091</td> <td>    0.109</td>\n",
              "</tr>\n",
              "<tr>\n",
              "  <th>int_corr</th> <td>   -0.0366</td> <td>    0.017</td> <td>   -2.210</td> <td> 0.027</td> <td>   -0.069</td> <td>   -0.004</td>\n",
              "</tr>\n",
              "</table>\n",
              "<table class=\"simpletable\">\n",
              "<tr>\n",
              "  <th>Omnibus:</th>       <td>4603.362</td> <th>  Durbin-Watson:     </th> <td>   1.535</td>\n",
              "</tr>\n",
              "<tr>\n",
              "  <th>Prob(Omnibus):</th>  <td> 0.000</td>  <th>  Jarque-Bera (JB):  </th> <td> 394.555</td>\n",
              "</tr>\n",
              "<tr>\n",
              "  <th>Skew:</th>           <td> 0.072</td>  <th>  Prob(JB):          </th> <td>2.11e-86</td>\n",
              "</tr>\n",
              "<tr>\n",
              "  <th>Kurtosis:</th>       <td> 1.828</td>  <th>  Cond. No.          </th> <td>    50.1</td>\n",
              "</tr>\n",
              "</table><br/><br/>Warnings:<br/>[1] Standard Errors assume that the covariance matrix of the errors is correctly specified."
            ],
            "text/plain": [
              "<class 'statsmodels.iolib.summary.Summary'>\n",
              "\"\"\"\n",
              "                                 OLS Regression Results                                \n",
              "=======================================================================================\n",
              "Dep. Variable:                    dec   R-squared (uncentered):                   0.602\n",
              "Model:                            OLS   Adj. R-squared (uncentered):              0.602\n",
              "Method:                 Least Squares   F-statistic:                              1712.\n",
              "Date:                Mon, 23 Mar 2020   Prob (F-statistic):                        0.00\n",
              "Time:                        09:11:59   Log-Likelihood:                         -3686.4\n",
              "No. Observations:                6797   AIC:                                      7385.\n",
              "Df Residuals:                    6791   BIC:                                      7426.\n",
              "Df Model:                           6                                                  \n",
              "Covariance Type:            nonrobust                                                  \n",
              "==============================================================================\n",
              "                 coef    std err          t      P>|t|      [0.025      0.975]\n",
              "------------------------------------------------------------------------------\n",
              "attr           0.0555      0.004     15.678      0.000       0.049       0.062\n",
              "sinc          -0.0351      0.004     -8.750      0.000      -0.043      -0.027\n",
              "intel         -0.0485      0.004    -11.897      0.000      -0.057      -0.041\n",
              "fun            0.0173      0.004      4.495      0.000       0.010       0.025\n",
              "like           0.0997      0.004     22.261      0.000       0.091       0.109\n",
              "int_corr      -0.0366      0.017     -2.210      0.027      -0.069      -0.004\n",
              "==============================================================================\n",
              "Omnibus:                     4603.362   Durbin-Watson:                   1.535\n",
              "Prob(Omnibus):                  0.000   Jarque-Bera (JB):              394.555\n",
              "Skew:                           0.072   Prob(JB):                     2.11e-86\n",
              "Kurtosis:                       1.828   Cond. No.                         50.1\n",
              "==============================================================================\n",
              "\n",
              "Warnings:\n",
              "[1] Standard Errors assume that the covariance matrix of the errors is correctly specified.\n",
              "\"\"\""
            ]
          },
          "metadata": {
            "tags": []
          },
          "execution_count": 38
        }
      ]
    },
    {
      "cell_type": "markdown",
      "metadata": {
        "id": "jMuZxwvWinUq",
        "colab_type": "text"
      },
      "source": [
        "It turns out that being smart or sincere or having similar interests actually affects your chances of getting that second date slightly! Do not panic, it's just from 4 minutes of meeting! you have to focus on breaking the ice and be more fun and friendly on the first date!\n",
        "\n",
        "Now let's run an OLS but with the scores of the two respondents instead of one, and this time on the match instead of the decision (dec)."
      ]
    },
    {
      "cell_type": "code",
      "metadata": {
        "id": "dy5DJJamiYfJ",
        "colab_type": "code",
        "outputId": "f36a7cfb-c2ae-468a-e79e-ec8c0ab5bc65",
        "colab": {
          "base_uri": "https://localhost:8080/",
          "height": 591
        }
      },
      "source": [
        "# OLS model with coefficients\n",
        "X_ols = date4[['dec','dec_o','attr','attr_o','fun','fun_o','like','like_o','int_corr']]\n",
        "y_ols = date4.match\n",
        "traits = sm.OLS(y_ols, X_ols)\n",
        "results_traits = traits.fit()\n",
        "results_traits.summary()"
      ],
      "execution_count": 39,
      "outputs": [
        {
          "output_type": "execute_result",
          "data": {
            "text/html": [
              "<table class=\"simpletable\">\n",
              "<caption>OLS Regression Results</caption>\n",
              "<tr>\n",
              "  <th>Dep. Variable:</th>          <td>match</td>      <th>  R-squared (uncentered):</th>      <td>   0.647</td>\n",
              "</tr>\n",
              "<tr>\n",
              "  <th>Model:</th>                   <td>OLS</td>       <th>  Adj. R-squared (uncentered):</th> <td>   0.646</td>\n",
              "</tr>\n",
              "<tr>\n",
              "  <th>Method:</th>             <td>Least Squares</td>  <th>  F-statistic:       </th>          <td>   1381.</td>\n",
              "</tr>\n",
              "<tr>\n",
              "  <th>Date:</th>             <td>Mon, 23 Mar 2020</td> <th>  Prob (F-statistic):</th>           <td>  0.00</td> \n",
              "</tr>\n",
              "<tr>\n",
              "  <th>Time:</th>                 <td>09:11:59</td>     <th>  Log-Likelihood:    </th>          <td> -180.33</td>\n",
              "</tr>\n",
              "<tr>\n",
              "  <th>No. Observations:</th>      <td>  6797</td>      <th>  AIC:               </th>          <td>   378.7</td>\n",
              "</tr>\n",
              "<tr>\n",
              "  <th>Df Residuals:</th>          <td>  6788</td>      <th>  BIC:               </th>          <td>   440.1</td>\n",
              "</tr>\n",
              "<tr>\n",
              "  <th>Df Model:</th>              <td>     9</td>      <th>                     </th>              <td> </td>   \n",
              "</tr>\n",
              "<tr>\n",
              "  <th>Covariance Type:</th>      <td>nonrobust</td>    <th>                     </th>              <td> </td>   \n",
              "</tr>\n",
              "</table>\n",
              "<table class=\"simpletable\">\n",
              "<tr>\n",
              "      <td></td>        <th>coef</th>     <th>std err</th>      <th>t</th>      <th>P>|t|</th>  <th>[0.025</th>    <th>0.975]</th>  \n",
              "</tr>\n",
              "<tr>\n",
              "  <th>dec</th>      <td>    0.4463</td> <td>    0.007</td> <td>   62.145</td> <td> 0.000</td> <td>    0.432</td> <td>    0.460</td>\n",
              "</tr>\n",
              "<tr>\n",
              "  <th>dec_o</th>    <td>    0.4463</td> <td>    0.007</td> <td>   62.417</td> <td> 0.000</td> <td>    0.432</td> <td>    0.460</td>\n",
              "</tr>\n",
              "<tr>\n",
              "  <th>attr</th>     <td>   -0.0013</td> <td>    0.002</td> <td>   -0.584</td> <td> 0.559</td> <td>   -0.005</td> <td>    0.003</td>\n",
              "</tr>\n",
              "<tr>\n",
              "  <th>attr_o</th>   <td>   -0.0009</td> <td>    0.002</td> <td>   -0.406</td> <td> 0.685</td> <td>   -0.005</td> <td>    0.003</td>\n",
              "</tr>\n",
              "<tr>\n",
              "  <th>fun</th>      <td>    0.0006</td> <td>    0.002</td> <td>    0.249</td> <td> 0.803</td> <td>   -0.004</td> <td>    0.005</td>\n",
              "</tr>\n",
              "<tr>\n",
              "  <th>fun_o</th>    <td>    0.0012</td> <td>    0.002</td> <td>    0.555</td> <td> 0.579</td> <td>   -0.003</td> <td>    0.006</td>\n",
              "</tr>\n",
              "<tr>\n",
              "  <th>like</th>     <td>   -0.0161</td> <td>    0.003</td> <td>   -6.132</td> <td> 0.000</td> <td>   -0.021</td> <td>   -0.011</td>\n",
              "</tr>\n",
              "<tr>\n",
              "  <th>like_o</th>   <td>   -0.0170</td> <td>    0.003</td> <td>   -6.523</td> <td> 0.000</td> <td>   -0.022</td> <td>   -0.012</td>\n",
              "</tr>\n",
              "<tr>\n",
              "  <th>int_corr</th> <td>    0.0036</td> <td>    0.010</td> <td>    0.364</td> <td> 0.716</td> <td>   -0.016</td> <td>    0.023</td>\n",
              "</tr>\n",
              "</table>\n",
              "<table class=\"simpletable\">\n",
              "<tr>\n",
              "  <th>Omnibus:</th>       <td>33151.792</td> <th>  Durbin-Watson:     </th> <td>   1.869</td> \n",
              "</tr>\n",
              "<tr>\n",
              "  <th>Prob(Omnibus):</th>  <td> 0.000</td>   <th>  Jarque-Bera (JB):  </th> <td> 814.640</td> \n",
              "</tr>\n",
              "<tr>\n",
              "  <th>Skew:</th>           <td> 0.256</td>   <th>  Prob(JB):          </th> <td>1.27e-177</td>\n",
              "</tr>\n",
              "<tr>\n",
              "  <th>Kurtosis:</th>       <td> 1.383</td>   <th>  Cond. No.          </th> <td>    51.3</td> \n",
              "</tr>\n",
              "</table><br/><br/>Warnings:<br/>[1] Standard Errors assume that the covariance matrix of the errors is correctly specified."
            ],
            "text/plain": [
              "<class 'statsmodels.iolib.summary.Summary'>\n",
              "\"\"\"\n",
              "                                 OLS Regression Results                                \n",
              "=======================================================================================\n",
              "Dep. Variable:                  match   R-squared (uncentered):                   0.647\n",
              "Model:                            OLS   Adj. R-squared (uncentered):              0.646\n",
              "Method:                 Least Squares   F-statistic:                              1381.\n",
              "Date:                Mon, 23 Mar 2020   Prob (F-statistic):                        0.00\n",
              "Time:                        09:11:59   Log-Likelihood:                         -180.33\n",
              "No. Observations:                6797   AIC:                                      378.7\n",
              "Df Residuals:                    6788   BIC:                                      440.1\n",
              "Df Model:                           9                                                  \n",
              "Covariance Type:            nonrobust                                                  \n",
              "==============================================================================\n",
              "                 coef    std err          t      P>|t|      [0.025      0.975]\n",
              "------------------------------------------------------------------------------\n",
              "dec            0.4463      0.007     62.145      0.000       0.432       0.460\n",
              "dec_o          0.4463      0.007     62.417      0.000       0.432       0.460\n",
              "attr          -0.0013      0.002     -0.584      0.559      -0.005       0.003\n",
              "attr_o        -0.0009      0.002     -0.406      0.685      -0.005       0.003\n",
              "fun            0.0006      0.002      0.249      0.803      -0.004       0.005\n",
              "fun_o          0.0012      0.002      0.555      0.579      -0.003       0.006\n",
              "like          -0.0161      0.003     -6.132      0.000      -0.021      -0.011\n",
              "like_o        -0.0170      0.003     -6.523      0.000      -0.022      -0.012\n",
              "int_corr       0.0036      0.010      0.364      0.716      -0.016       0.023\n",
              "==============================================================================\n",
              "Omnibus:                    33151.792   Durbin-Watson:                   1.869\n",
              "Prob(Omnibus):                  0.000   Jarque-Bera (JB):              814.640\n",
              "Skew:                           0.256   Prob(JB):                    1.27e-177\n",
              "Kurtosis:                       1.383   Cond. No.                         51.3\n",
              "==============================================================================\n",
              "\n",
              "Warnings:\n",
              "[1] Standard Errors assume that the covariance matrix of the errors is correctly specified.\n",
              "\"\"\""
            ]
          },
          "metadata": {
            "tags": []
          },
          "execution_count": 39
        }
      ]
    },
    {
      "cell_type": "markdown",
      "metadata": {
        "id": "VyEl2gslivrn",
        "colab_type": "text"
      },
      "source": [
        "From the coefficients, it looks like all that really matters is the decision of both participants, and perhaps whether or not they liked one another."
      ]
    },
    {
      "cell_type": "markdown",
      "metadata": {
        "id": "HJVK9ZQrizw_",
        "colab_type": "text"
      },
      "source": [
        "## <a id=\"mdl\"> Modeling - Classification </a>"
      ]
    },
    {
      "cell_type": "code",
      "metadata": {
        "id": "SCucneSOiYdF",
        "colab_type": "code",
        "colab": {}
      },
      "source": [
        "# preparing the data\n",
        "X=date4[['like','dec']]\n",
        "y=date4['match']\n",
        "X_train, X_test, y_train, y_test = train_test_split(X, y, test_size=0.2, random_state=0, stratify=y)"
      ],
      "execution_count": 0,
      "outputs": []
    },
    {
      "cell_type": "code",
      "metadata": {
        "id": "UaINLQ-eiYZV",
        "colab_type": "code",
        "outputId": "ad5c0e13-1f1e-498a-a5f0-a279341b264d",
        "colab": {
          "base_uri": "https://localhost:8080/",
          "height": 51
        }
      },
      "source": [
        "# logistic regression classification model\n",
        "model = LogisticRegression(C=1, random_state=0)\n",
        "lrc = model.fit(X_train, y_train)\n",
        "predict_train_lrc = lrc.predict(X_train)\n",
        "predict_test_lrc = lrc.predict(X_test)\n",
        "print('Training Accuracy:', metrics.accuracy_score(y_train, predict_train_lrc))\n",
        "print('Validation Accuracy:', metrics.accuracy_score(y_test, predict_test_lrc))"
      ],
      "execution_count": 41,
      "outputs": [
        {
          "output_type": "stream",
          "text": [
            "Training Accuracy: 0.8282140886518301\n",
            "Validation Accuracy: 0.8279411764705882\n"
          ],
          "name": "stdout"
        }
      ]
    },
    {
      "cell_type": "markdown",
      "metadata": {
        "id": "76NElM-7i9PC",
        "colab_type": "text"
      },
      "source": [
        "Without knowing what the partner's decision is (dec_o), it turns out that given how much the respondent likes the partner and what the respondent's decision is, we have about an 82.5% accuracy in predicting a match on both the training and the validation using <a id=\"rf\">logistic regression</a>. This makes sense given that we know only 26% of people were heartbroken -- if you like someone, odds are they will like you back!\n",
        "\n",
        "Let's try some other models to see if we can get closer to predicting a match."
      ]
    },
    {
      "cell_type": "code",
      "metadata": {
        "id": "h-BayljLi_KB",
        "colab_type": "code",
        "outputId": "3f82632a-dcf7-47a0-9a9d-1d27e6b7c8e1",
        "colab": {
          "base_uri": "https://localhost:8080/",
          "height": 51
        }
      },
      "source": [
        "# random forest model\n",
        "model = RandomForestClassifier()\n",
        "rf_model = model.fit(X_train, y_train)\n",
        "predict_train_rf = rf_model.predict(X_train)\n",
        "predict_test_rf = rf_model.predict(X_test)\n",
        "print('Training Accuracy:', metrics.accuracy_score(y_train, predict_train_rf))\n",
        "print('Validation Accuracy:', metrics.accuracy_score(y_test, predict_test_rf))"
      ],
      "execution_count": 42,
      "outputs": [
        {
          "output_type": "stream",
          "text": [
            "Training Accuracy: 0.8289497884862976\n",
            "Validation Accuracy: 0.8272058823529411\n"
          ],
          "name": "stdout"
        }
      ]
    },
    {
      "cell_type": "markdown",
      "metadata": {
        "id": "SbpbuP5PjEva",
        "colab_type": "text"
      },
      "source": [
        "<a id=\"rf\">Random forest</a> gave us a slightly more accurate model at 82.9% accuracy in train and 82.8% in test."
      ]
    },
    {
      "cell_type": "code",
      "metadata": {
        "id": "N8Y972C1i_GP",
        "colab_type": "code",
        "outputId": "ce258294-186f-4cc4-d0e0-b112b416fe8f",
        "colab": {
          "base_uri": "https://localhost:8080/",
          "height": 51
        }
      },
      "source": [
        "# xgboost model\n",
        "model = GradientBoostingClassifier()\n",
        "xgb_model = model.fit(X_train, y_train)\n",
        "predict_train_xgb = xgb_model.predict(X_train)\n",
        "predict_test_xgb = xgb_model.predict(X_test)\n",
        "print('Training Accuracy:', metrics.accuracy_score(y_train, predict_train_xgb))\n",
        "print('Validation Accuracy:', metrics.accuracy_score(y_test, predict_test_xgb))"
      ],
      "execution_count": 43,
      "outputs": [
        {
          "output_type": "stream",
          "text": [
            "Training Accuracy: 0.8289497884862976\n",
            "Validation Accuracy: 0.8272058823529411\n"
          ],
          "name": "stdout"
        }
      ]
    },
    {
      "cell_type": "markdown",
      "metadata": {
        "id": "KtAkDyqijMl9",
        "colab_type": "text"
      },
      "source": [
        "<a id=\"xgb\">XGBoost</a> was ever so slightly less accurate than Random Forest in the validation set. Random Forest is the best model."
      ]
    },
    {
      "cell_type": "markdown",
      "metadata": {
        "id": "2Jm3y6XWjQcU",
        "colab_type": "text"
      },
      "source": [
        "## <a id=\"ccn\"> Conclusion </a>\n",
        "\n",
        "It seems that there are still no real answers to the secret of love. These are not interests or hobbies, it is not attractiveness, intelligence or other traits.\n",
        "\n",
        "On the other hand, we did learn a thing or two. To summarize:\n",
        " * Take your date out to the cliche dinner and a movie because both genders are likely to enjoy it\n",
        " * Dating is tougher for men (perhaps women can be more selective?)\n",
        " * More participants experienced unrequited love than those that found love -- so don't feel too bad\n",
        " * People get their heartbroken regardless of their personal traits like attractiveness, so if you strike out, it's not you that is the problem\n",
        " * Your impression of yourself is often wrong\n",
        " * There is no one trait that makes you likeable\n",
        " * Being likeable is important for securing that second date!\n"
      ]
    }
  ]
}